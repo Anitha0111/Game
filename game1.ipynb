{
 "cells": [
  {
   "cell_type": "code",
   "execution_count": 3,
   "id": "7f19de58-767a-4601-8a50-64f22bd25beb",
   "metadata": {},
   "outputs": [
    {
     "name": "stdout",
     "output_type": "stream",
     "text": [
      "Word Chain Game! Type 'exit' to quit.\n"
     ]
    },
    {
     "name": "stdin",
     "output_type": "stream",
     "text": [
      "Enter a word:  apple\n"
     ]
    },
    {
     "name": "stdout",
     "output_type": "stream",
     "text": [
      "Valid word! Next player's turn.\n"
     ]
    },
    {
     "name": "stdin",
     "output_type": "stream",
     "text": [
      "Enter a word:  eye\n"
     ]
    },
    {
     "name": "stdout",
     "output_type": "stream",
     "text": [
      "Valid word! Next player's turn.\n"
     ]
    },
    {
     "name": "stdin",
     "output_type": "stream",
     "text": [
      "Enter a word:  ear\n"
     ]
    },
    {
     "name": "stdout",
     "output_type": "stream",
     "text": [
      "Valid word! Next player's turn.\n"
     ]
    },
    {
     "name": "stdin",
     "output_type": "stream",
     "text": [
      "Enter a word:  run\n"
     ]
    },
    {
     "name": "stdout",
     "output_type": "stream",
     "text": [
      "Valid word! Next player's turn.\n"
     ]
    },
    {
     "name": "stdin",
     "output_type": "stream",
     "text": [
      "Enter a word:  nest\n"
     ]
    },
    {
     "name": "stdout",
     "output_type": "stream",
     "text": [
      "Valid word! Next player's turn.\n"
     ]
    },
    {
     "name": "stdin",
     "output_type": "stream",
     "text": [
      "Enter a word:  tear\n"
     ]
    },
    {
     "name": "stdout",
     "output_type": "stream",
     "text": [
      "Valid word! Next player's turn.\n"
     ]
    },
    {
     "name": "stdin",
     "output_type": "stream",
     "text": [
      "Enter a word:  room\n"
     ]
    },
    {
     "name": "stdout",
     "output_type": "stream",
     "text": [
      "Valid word! Next player's turn.\n"
     ]
    },
    {
     "name": "stdin",
     "output_type": "stream",
     "text": [
      "Enter a word:  no\n"
     ]
    },
    {
     "name": "stdout",
     "output_type": "stream",
     "text": [
      "Invalid word! It should start with 'm'. Try again.\n"
     ]
    },
    {
     "name": "stdin",
     "output_type": "stream",
     "text": [
      "Enter a word:  exit\n"
     ]
    },
    {
     "name": "stdout",
     "output_type": "stream",
     "text": [
      "Game over. Thanks for playing!\n"
     ]
    }
   ],
   "source": [
    "def word_chain_game():\n",
    "    print(\"Word Chain Game! Type 'exit' to quit.\")\n",
    "    previous_word = \"\"\n",
    "    is_first_word = True\n",
    "\n",
    "    while True:\n",
    "        current_word = input(\"Enter a word: \").strip()\n",
    "\n",
    "        # Exit condition\n",
    "        if current_word.lower() == \"exit\":\n",
    "            print(\"Game over. Thanks for playing!\")\n",
    "            break\n",
    "\n",
    "        if not is_first_word:\n",
    "            # Check if the first letter of the current word matches the last letter of the previous word\n",
    "            if previous_word[-1] != current_word[0]:\n",
    "                print(f\"Invalid word! It should start with '{previous_word[-1]}'. Try again.\")\n",
    "                continue\n",
    "\n",
    "        # Update previous_word for the next turn\n",
    "        previous_word = current_word\n",
    "        is_first_word = False\n",
    "        print(\"Valid word! Next player's turn.\")\n",
    "\n",
    "# Run the game\n",
    "word_chain_game()"
   ]
  },
  {
   "cell_type": "code",
   "execution_count": null,
   "id": "2bd8bed3-e23f-4add-9fed-4bd87dfb614b",
   "metadata": {},
   "outputs": [
    {
     "name": "stdout",
     "output_type": "stream",
     "text": [
      "Word Chain Game! Type 'exit' to quit.\n"
     ]
    }
   ],
   "source": [
    "import os\n",
    "\n",
    "def clear_console():\n",
    "    \"\"\"Clears the console screen.\"\"\"\n",
    "    os.system('cls' if os.name == 'nt' else 'clear')\n",
    "\n",
    "def word_chain_game():\n",
    "    \"\"\"Word Chain Game Function.\"\"\"\n",
    "    print(\"Word Chain Game! Type 'exit' to quit.\")\n",
    "    previous_word = \"\"\n",
    "    is_first_word = True\n",
    "\n",
    "    while True:\n",
    "        current_word = input(\"Enter a word: \").strip()\n",
    "\n",
    "        # Exit condition\n",
    "        if current_word.lower() == \"exit\":\n",
    "            print(\"Game over. Thanks for playing!\")\n",
    "            break\n",
    "\n",
    "        if not is_first_word:\n",
    "            # Check if the first letter of the current word matches the last letter of the previous word\n",
    "            if previous_word[-1].lower() != current_word[0].lower():\n",
    "                print(f\"Invalid word! It should start with '{previous_word[-1].lower()}'. Try again.\")\n",
    "                continue\n",
    "\n",
    "        # Update previous_word for the next turn\n",
    "        previous_word = current_word\n",
    "        is_first_word = False\n",
    "        print(\"Valid word! Next player's turn.\")\n",
    "        print(\"\\n\")\n",
    "\n",
    "# Clear the console and start the game\n",
    "clear_console()\n",
    "word_chain_game()"
   ]
  },
  {
   "cell_type": "code",
   "execution_count": null,
   "id": "6beb50e8-8f77-4fd6-8fc9-4bd17ff55e4a",
   "metadata": {},
   "outputs": [],
   "source": []
  }
 ],
 "metadata": {
  "kernelspec": {
   "display_name": "Python 3 (ipykernel)",
   "language": "python",
   "name": "python3"
  },
  "language_info": {
   "codemirror_mode": {
    "name": "ipython",
    "version": 3
   },
   "file_extension": ".py",
   "mimetype": "text/x-python",
   "name": "python",
   "nbconvert_exporter": "python",
   "pygments_lexer": "ipython3",
   "version": "3.12.7"
  }
 },
 "nbformat": 4,
 "nbformat_minor": 5
}
